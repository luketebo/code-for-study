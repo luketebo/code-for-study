{
 "cells": [
  {
   "cell_type": "markdown",
   "metadata": {},
   "source": [
    "1. 简述BeautifulSoup类中标签的基本元素\n",
    "   ~~~\n",
    "   <Tag>: 标签，最基本的信息组织单元，分别用<></>标明开始和结束\n",
    "   <Name>: 标签的名字，<p>....</p>的名字是'p',格式：<tag>.name\n",
    "   <Attributes>: 标签的属性，字典形式组织，格式：<tag>.attrs\n",
    "   <NavigableString>: 标签内非属性字符串，<>....</>中字符串，格式：<tag>.string\n",
    "   <Comment>: 标签内字符串的注释部分，一种特殊的Comment类型\n",
    "   ~~~\n",
    "2. 简述BeautifulSoup类中contents, children和descendants的作用\n",
    "    ~~~\n",
    "    .contents: 子节点**列表**，将<tag>所有儿子节点存入列表\n",
    "    .children: 子节点迭代类型，与.contents类似，**用于循环遍历儿子节点**\n",
    "    .descendants: 子孙节点的迭代类型，**包含所有子孙节点**，用于循环遍历\n",
    "    ~~~\n",
    "4. 谈谈什么是平行遍历\n",
    "5. 针对页面http://python123.io/ws/demo.html, 写程序完成如下功能\n",
    "   1. 输出第一个a标签的名字，属性和标签包含的非属性字符串\n",
    "   2. 利用contents输出body标签的所有子标签的名字\n",
    "   3. 利用children输出body标签的所有子标签的名字\n",
    "   4. 输出该页面的所有标签的名字\n",
    "   5. 输出所有a标签的href属性对应的值\n",
    "   6. 输出第一个a标签的所有下行标签"
   ]
  },
  {
   "cell_type": "code",
   "execution_count": null,
   "metadata": {},
   "outputs": [],
   "source": []
  },
  {
   "cell_type": "markdown",
   "metadata": {},
   "source": [
    "5. 根据给出的“实例1中国大学定向爬虫”，自己时间完成该程序。要求：增加一项功能，即将取得排名信息不仅print到屏幕上，还需要保存到本地中"
   ]
  },
  {
   "cell_type": "code",
   "execution_count": null,
   "metadata": {},
   "outputs": [],
   "source": [
    "import requests\n",
    "from bs4 import BeautifulSoup\n",
    "\n",
    "def getHTMLText():\n",
    "    pass\n",
    "\n",
    "def fillUnivList():\n",
    "    pass\n",
    "\n",
    "def printUnivList():\n",
    "    pass\n",
    "\n",
    "def main():\n",
    "    uInfo = []\n",
    "    url = \"https://www.zuihaodaxue.cn/zuihaodaxuepaiming2022.html\"\n",
    "    "
   ]
  }
 ],
 "metadata": {
  "language_info": {
   "name": "python"
  },
  "orig_nbformat": 4
 },
 "nbformat": 4,
 "nbformat_minor": 2
}
