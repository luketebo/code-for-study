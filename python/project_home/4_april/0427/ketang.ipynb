{
 "cells": [
  {
   "cell_type": "markdown",
   "metadata": {},
   "source": [
    "# 生成随即验证码 大写，小写，数字 六个字符"
   ]
  },
  {
   "cell_type": "code",
   "execution_count": 7,
   "metadata": {},
   "outputs": [
    {
     "name": "stdout",
     "output_type": "stream",
     "text": [
      "Lo4CDF\n",
      "验证码错误\n"
     ]
    }
   ],
   "source": [
    "import random\n",
    "\n",
    "code = 'abcdefghijklmnopqrstuvwxyz0123456789ABCDEFGHIJKLMNOPQRSTUVWXYZ'\n",
    "\n",
    "verofocation = ''\n",
    "\n",
    "for i in range(6):\n",
    "    verofocation += random.choice(code)\n",
    "\n",
    "print(verofocation)  \n",
    "\n",
    "input_code = input('请输入验证码：')\n",
    "\n",
    "flag = True\n",
    "for i in range(6):\n",
    "    if input_code[i] != verofocation[i]:\n",
    "        print(\"验证码错误\")\n",
    "        flag = False\n",
    "        break\n",
    "\n",
    "if flag:\n",
    "    print(\"验证码正确\") \n"
   ]
  },
  {
   "cell_type": "markdown",
   "metadata": {},
   "source": [
    "# 绘制多角星"
   ]
  },
  {
   "cell_type": "code",
   "execution_count": 10,
   "metadata": {},
   "outputs": [],
   "source": [
    "import turtle as T\n",
    "\n",
    "T.color('black','red')\n",
    "T.setup(450,400)\n",
    "T.begin_file()\n",
    "while True:\n",
    "    T.forword(150)\n",
    "    T.left(150)\n",
    "    if abs(T.pose()) < 1:\n",
    "        break\n",
    "    \n",
    "T.end_fill()\n",
    "T.done()"
   ]
  },
  {
   "cell_type": "markdown",
   "metadata": {},
   "source": [
    "# 身份证归属地查询"
   ]
  },
  {
   "cell_type": "code",
   "execution_count": null,
   "metadata": {},
   "outputs": [],
   "source": [
    "import json\n",
    "\n",
    "with open(\"identify.text\",\"r\",encoding=\"UTF-8\") as f:\n",
    "    content = f.read()\n",
    "content_dict =  json.loads(content) # 转换成字典类型\n",
    "\n",
    "test = input(\"请输入地名编号\")\n",
    "\n",
    "if test in content_dict.keys():\n",
    "    print(content_dict[test])\n",
    "else:\n",
    "    print(\"没有该地址\")"
   ]
  },
  {
   "cell_type": "markdown",
   "metadata": {},
   "source": [
    "# 随机出题v1.0 能出20道四则运算， 分别为带答案和不带答案，分别存储在txt文件里"
   ]
  },
  {
   "cell_type": "code",
   "execution_count": null,
   "metadata": {},
   "outputs": [],
   "source": [
    "import random\n",
    "\n",
    "    \n",
    "\n",
    "def judge(a,b,s) -> int:\n",
    "    if s == '+':\n",
    "        return a + b\n",
    "    elif s == '-':\n",
    "        return a - b\n",
    "    elif s == '*':\n",
    "        return a * b\n",
    "    elif s == '/':\n",
    "        return a / b\n",
    "    else:\n",
    "        print(\"输入错误\")\n",
    "        return 0\n",
    "    \n",
    "count = 0\n",
    "op_t = \"+-*/\"\n",
    "while count < 20:\n",
    "    a = random.randint(1, 100)\n",
    "    b = random.randint(1, 100)\n",
    "    op = random.choice(op_t)\n",
    "    text_n = str(a) + op + str(b) + \"=\" + \"\\n\"\n",
    "    with open(\"no_answer.text\", \"a\") as w:\n",
    "        w.write(text_n)\n",
    "    text_t = str(a) + op + str(b) + '{:.2f}'.format(judge(a,b,op)) + \"\\n\"\n",
    "    with open(\"answer.text\", \"a\") as w:\n",
    "        w.write(text_t)\n",
    "    count += 1 "
   ]
  },
  {
   "cell_type": "markdown",
   "metadata": {},
   "source": [
    "# 排版程序"
   ]
  },
  {
   "cell_type": "code",
   "execution_count": null,
   "metadata": {},
   "outputs": [],
   "source": [
    "with open(\"sort.text\", \"r\", encoding=\"UTF-8\") as f:\n",
    "    text = f.read()\n",
    "    \n",
    "new_text = text.split(\"\\n\")\n",
    "\n",
    "for item in new_text:\n",
    "    count = 0\n",
    "    for i in range(len(item)):\n",
    "        if item[i] == '.':\n",
    "            count += 1\n",
    "    with open(\"new_sort.text\", \"a\", encoding=\"UTF-8\") as f:\n",
    "        f.write((count * \" \") + item + \"\\n\") "
   ]
  }
 ],
 "metadata": {
  "interpreter": {
   "hash": "04c4536036e3f09beda75c74a8b8071b0497dc799546b6e35c61d754cf705ead"
  },
  "kernelspec": {
   "display_name": "Python 3.10.3 64-bit",
   "language": "python",
   "name": "python3"
  },
  "language_info": {
   "codemirror_mode": {
    "name": "ipython",
    "version": 3
   },
   "file_extension": ".py",
   "mimetype": "text/x-python",
   "name": "python",
   "nbconvert_exporter": "python",
   "pygments_lexer": "ipython3",
   "version": "3.10.4"
  },
  "orig_nbformat": 4
 },
 "nbformat": 4,
 "nbformat_minor": 2
}
