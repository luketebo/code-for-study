{
 "cells": [
  {
   "cell_type": "markdown",
   "metadata": {},
   "source": [
    "# 生成随即验证码 大写，小写，数字 六个字符"
   ]
  },
  {
   "cell_type": "code",
   "execution_count": 7,
   "metadata": {},
   "outputs": [
    {
     "name": "stdout",
     "output_type": "stream",
     "text": [
      "Lo4CDF\n",
      "验证码错误\n"
     ]
    }
   ],
   "source": [
    "import random\n",
    "\n",
    "code = 'abcdefghijklmnopqrstuvwxyz0123456789ABCDEFGHIJKLMNOPQRSTUVWXYZ'\n",
    "\n",
    "verofocation = ''\n",
    "\n",
    "for i in range(6):\n",
    "    verofocation += random.choice(code)\n",
    "\n",
    "print(verofocation)  \n",
    "\n",
    "input_code = input('请输入验证码：')\n",
    "\n",
    "flag = True\n",
    "for i in range(6):\n",
    "    if input_code[i] != verofocation[i]:\n",
    "        print(\"验证码错误\")\n",
    "        flag = False\n",
    "        break\n",
    "\n",
    "if flag:\n",
    "    print(\"验证码正确\") \n"
   ]
  },
  {
   "cell_type": "markdown",
   "metadata": {},
   "source": [
    "# 绘制多角星"
   ]
  },
  {
   "cell_type": "code",
   "execution_count": 10,
   "metadata": {},
   "outputs": [],
   "source": [
    "import turtle as T\n",
    "\n",
    "T.color('black','red')\n",
    "T.setup(450,400)\n",
    "T.begin_file()\n",
    "while True:\n",
    "    T.forword(150)\n",
    "    T.left(150)\n",
    "    if abs(T.pose()) < 1:\n",
    "        break\n",
    "    \n",
    "T.end_fill()\n",
    "T.done()"
   ]
  },
  {
   "cell_type": "markdown",
   "metadata": {},
   "source": [
    "# 身份证归属地查询"
   ]
  },
  {
   "cell_type": "code",
   "execution_count": null,
   "metadata": {},
   "outputs": [],
   "source": [
    "import json\n",
    "\n",
    "with open(\"identify.text\",\"r\",encoding=\"UTF-8\") as f:\n",
    "    content = f.read()\n",
    "content_dict =  json.loads(content) # 转换成字典类型\n",
    "\n",
    "test = input(\"请输入地名编号\")\n",
    "\n"
   ]
  },
  {
   "cell_type": "markdown",
   "metadata": {},
   "source": [
    "# 随机出题v1.0 能出20道四则运算， 分别为带答案和不带答案，分别存储在txt文件里"
   ]
  },
  {
   "cell_type": "code",
   "execution_count": null,
   "metadata": {},
   "outputs": [],
   "source": []
  },
  {
   "cell_type": "markdown",
   "metadata": {},
   "source": [
    "# 排版程序"
   ]
  },
  {
   "cell_type": "code",
   "execution_count": null,
   "metadata": {},
   "outputs": [],
   "source": []
  }
 ],
 "metadata": {
  "interpreter": {
   "hash": "04c4536036e3f09beda75c74a8b8071b0497dc799546b6e35c61d754cf705ead"
  },
  "kernelspec": {
   "display_name": "Python 3.10.3 64-bit",
   "language": "python",
   "name": "python3"
  },
  "language_info": {
   "codemirror_mode": {
    "name": "ipython",
    "version": 3
   },
   "file_extension": ".py",
   "mimetype": "text/x-python",
   "name": "python",
   "nbconvert_exporter": "python",
   "pygments_lexer": "ipython3",
   "version": "3.10.4"
  },
  "orig_nbformat": 4
 },
 "nbformat": 4,
 "nbformat_minor": 2
}
