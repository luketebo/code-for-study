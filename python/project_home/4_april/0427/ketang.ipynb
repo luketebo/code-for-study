{
 "cells": [
  {
   "cell_type": "markdown",
   "metadata": {},
   "source": [
    "# 生成随即验证码 大写，小写，数字 六个字符"
   ]
  },
  {
   "cell_type": "code",
   "execution_count": null,
   "metadata": {},
   "outputs": [],
   "source": [
    "import random\n",
    "\n",
    "code = 'abcdefghijklmnopqrstuvwxyz0123456789ABCDEFGHIJKLMNOPQRSTUVWXYZ'\n",
    "\n",
    "verofocation = ''\n",
    "\n",
    "for i in range(6):\n",
    "    verofocation += code[random.randchoice(code)]\n",
    "\n",
    "print(verofocation)  \n",
    "\n",
    "input_code = input('请输入验证码：')\n",
    "\n",
    "flag = True\n",
    "for i in range(6):\n",
    "    if input_code[i] != verofocation[i]:\n",
    "        print(\"验证码错误\")\n",
    "        flag = False\n",
    "        break\n",
    "\n",
    "if flag:\n",
    "    print(\"验证码正确\") \n"
   ]
  },
  {
   "cell_type": "markdown",
   "metadata": {},
   "source": [
    "# 绘制多角星"
   ]
  },
  {
   "cell_type": "code",
   "execution_count": null,
   "metadata": {},
   "outputs": [],
   "source": []
  },
  {
   "cell_type": "markdown",
   "metadata": {},
   "source": [
    "# 身份证归属地查询"
   ]
  },
  {
   "cell_type": "code",
   "execution_count": null,
   "metadata": {},
   "outputs": [],
   "source": []
  },
  {
   "cell_type": "markdown",
   "metadata": {},
   "source": [
    "# 随机出题v1.0 能出20道四则运算， 分别为带答案和不带答案，分别存储在txt文件里"
   ]
  },
  {
   "cell_type": "code",
   "execution_count": null,
   "metadata": {},
   "outputs": [],
   "source": []
  },
  {
   "cell_type": "markdown",
   "metadata": {},
   "source": [
    "# 排版程序"
   ]
  },
  {
   "cell_type": "code",
   "execution_count": null,
   "metadata": {},
   "outputs": [],
   "source": []
  }
 ],
 "metadata": {
  "interpreter": {
   "hash": "04c4536036e3f09beda75c74a8b8071b0497dc799546b6e35c61d754cf705ead"
  },
  "kernelspec": {
   "display_name": "Python 3.10.3 64-bit",
   "language": "python",
   "name": "python3"
  },
  "language_info": {
   "name": "python",
   "version": "3.10.3"
  },
  "orig_nbformat": 4
 },
 "nbformat": 4,
 "nbformat_minor": 2
}
