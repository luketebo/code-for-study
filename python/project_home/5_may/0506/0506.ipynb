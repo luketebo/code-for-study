{
 "cells": [
  {
   "cell_type": "code",
   "execution_count": null,
   "metadata": {},
   "outputs": [],
   "source": [
    "# 一，填空题\n",
    "1. Python中使用关键字*class*来声明一个类\n",
    "2. 在_init_()方法中第一个参数永远是*self*\n",
    "3. 子类中使用*super()*来调用父类的方法\n",
    "4. Python中通过在属性名前添加*_*方法设置私有属性\n",
    "# 二，判断题\n",
    "1. 一个类只能创建一个实例化对象           *错*\n",
    "2. 构造方法会在创建对象是自动调用         *对*\n",
    "3. 类方法可以使用类名进行访问             *对*\n",
    "4. 对象的引用计数器值为0时会调用析构方法   *对*\n",
    "# 三，选择题\n",
    "1. B\n",
    "2. A\n",
    "3. B\n",
    "4. A\n",
    "5. A\n",
    "# 四，简答题\n",
    "1. 简述构造方法与析构方法的特点\n",
    "2. 简述类方法与静态方法的区别\n",
    "3. 简述Python中的继承机制\n",
    "# 五，编程题\n",
    "设计一个Circle类,该类中包括属性radius(半径),还包括_init_(),get_perimeter()(求周长)和get_area()(求面积)方法,设计完成后,\n",
    "创建Circle类并测试求周长和面积的功能。\n"
   ]
  },
  {
   "cell_type": "code",
   "execution_count": null,
   "metadata": {},
   "outputs": [],
   "source": [
    "class Circle:\n",
    "    _radius = 0\n",
    "    def _init_(self, radius):\n",
    "        self._radius = radius\n",
    "    def get_perimeter(self):\n",
    "        print(f\"周长:{2 * 3.14 * self._radius}\")\n",
    "    def get_area(self):\n",
    "        print(f\"面积:{3.14 * self._radius ** 2}\")"
   ]
  }
 ],
 "metadata": {
  "language_info": {
   "name": "python"
  },
  "orig_nbformat": 4
 },
 "nbformat": 4,
 "nbformat_minor": 2
}
