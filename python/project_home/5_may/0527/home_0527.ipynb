{
 "cells": [
  {
   "cell_type": "markdown",
   "metadata": {},
   "source": [
    "1. 完成以下程序，主窗口中包含一个button 按钮和一个text文本框，单击Button按钮弹出查找窗口，该窗口包含一个entry和一个Button"
   ]
  },
  {
   "cell_type": "code",
   "execution_count": null,
   "metadata": {},
   "outputs": [],
   "source": [
    "import tkinter as tk\n",
    "\n",
    "root = tk.Tk()\n",
    "\n",
    "root.geometry(\"400x400\")\n",
    "\n",
    "def new():\n",
    "    win = tk.Toplevel()\n",
    "    win.geometry(\"200x50\")\n",
    "    entry_1 = tk.Entry(win)\n",
    "    entry_1.pack(side=tk.LEFT,padx=10) \n",
    "    button_2 = tk.Button(win, text=\"查找\")\n",
    "    button_2.pack(side=tk.LEFT,padx=10)\n",
    "\n",
    "button_1 = tk.Button(root, text=\"查找\", command=new)\n",
    "button_1.pack()\n",
    "\n",
    "text_1 = tk.Text()\n",
    "text_1.pack()\n",
    "\n",
    "root.mainloop()\n"
   ]
  },
  {
   "cell_type": "markdown",
   "metadata": {},
   "source": [
    "2. 完成如下菜单程序"
   ]
  },
  {
   "cell_type": "code",
   "execution_count": null,
   "metadata": {},
   "outputs": [],
   "source": [
    "import tkinter as tk    \n",
    "\n",
    "root = tk.Tk()\n",
    "root.geometry(\"400x400\")\n",
    "\n",
    "topMenu = tk.Menu(root)\n",
    "\n",
    "cMenu = tk.Menu(topMenu)\n",
    "cMenu.add_command(label=\"北京\")\n",
    "cMenu.add_command(label=\"上海\")\n",
    "cMenu.add_command(label=\"重庆\")\n",
    "cMenu.add_command(label=\"广州\")\n",
    "cMenu.add_command(label=\"深圳\")\n",
    "\n",
    "\n",
    "topMenu.add_cascade(label=\"城市\", menu=cMenu)\n",
    "topMenu.add_command(label=\"修改\", command=root.quit)\n",
    "topMenu.add_command(label=\"退出\", command=root.quit)\n",
    "\n",
    "root['menu'] = topMenu\n",
    "\n",
    "root.mainloop()"
   ]
  },
  {
   "cell_type": "markdown",
   "metadata": {},
   "source": [
    "3. 完成如下弹出菜单程序，右键单击会弹出菜单"
   ]
  },
  {
   "cell_type": "code",
   "execution_count": null,
   "metadata": {},
   "outputs": [],
   "source": [
    "import tkinter as tk\n",
    "\n",
    "def showPopoutMenu(w, menu):\n",
    "    def popout(event):\n",
    "        # winfo_* 可以获取小组件的信息\n",
    "        menu.post(event.x + w.winfo_rootx(), event.y + w.winfo_rooty())\n",
    "        w.update()\n",
    "    w.bind('<Button-3>', popout)\n",
    "    \n",
    "    \n",
    "root = tk.Tk()\n",
    "root.geometry(\"400x400\")\n",
    "\n",
    "menu = tk.Menu(root)\n",
    "menu.add_cascade(label=\"复制\")\n",
    "menu.add_cascade(label=\"粘贴\")\n",
    "showPopoutMenu(root, menu)\n",
    "\n",
    "root.mainloop()\n"
   ]
  },
  {
   "cell_type": "markdown",
   "metadata": {},
   "source": [
    "4. 开发一个学生信息管理系统主窗体界面，该界面包含福彩但，子菜单和弹出菜单"
   ]
  },
  {
   "cell_type": "code",
   "execution_count": null,
   "metadata": {},
   "outputs": [],
   "source": [
    "import tkinter as tk\n",
    "from xml.dom.expatbuilder import theDOMImplementation\n",
    "\n",
    "# 学生信息管理系统\n",
    "\n",
    "root = tk.Tk()\n",
    "root.geometry(\"400x400\")\n",
    "\n",
    "topMenu = tk.Menu(root)\n",
    "cMenu_1 = tk.Menu(topMenu)\n",
    "cMenu_1.add_command(label=\"New Text File\")\n",
    "cMenu_1.add_command(label=\"New File\")\n",
    "cMenu_1.add_command(label=\"New Windows\")\n",
    "topMenu.add_cascade(label=\"File\", menu=cMenu_1)\n",
    "topMenu.add_command(label=\"Edit\")\n",
    "topMenu.add_command(label=\"View\")\n",
    "topMenu.add_command(label=\"Help\")\n",
    "root['menu'] = topMenu\n",
    "\n",
    "\n",
    "showMenu = tk.Menu(root)\n",
    "\n",
    "showMenu.add_command(label=\"New\")\n",
    "showMenu.add_command(label=\"Open\")\n",
    "\n",
    "\n",
    "\n",
    "def showPopoutMenu(w, menu):\n",
    "    def popout(event):\n",
    "        menu.post(event.x + w.winfo_rootx(), event.y + w.winfo_rooty())\n",
    "        w.update()\n",
    "    w.bind('<Button-3>', popout)\n",
    "\n",
    "\n",
    "showPopoutMenu(root, showMenu)\n",
    "\n",
    "root.mainloop()\n",
    "\n",
    "     "
   ]
  },
  {
   "cell_type": "markdown",
   "metadata": {},
   "source": [
    "5. 设计一个程序，在该程序包含能够演示messagebox中多个方法的功能，界面自己设计"
   ]
  },
  {
   "cell_type": "code",
   "execution_count": 1,
   "metadata": {},
   "outputs": [],
   "source": [
    "import tkinter as tk\n",
    "import tkinter.messagebox as msg\n",
    "\n",
    "root = tk.Tk()\n",
    "root.geometry(\"400x400\")\n",
    "\n",
    "def showinfo():\n",
    "    msg.showinfo(\"提示\", \"好久不见，欢迎回归\")\n",
    "    \n",
    "def showwarning():\n",
    "    msg.showwarning(\"警告\", \"你已经被监控\")\n",
    "    \n",
    "def showerror():\n",
    "    msg.showerror(\"错误\", \"写错了\")\n",
    "    \n",
    "def showAskquestion():\n",
    "    msg.askquestion(\"问题\", \"发生甚么事了？\")\n",
    "    \n",
    "tk.Button(root, text=\"showinfo\", command=showinfo, width=15).pack()\n",
    "tk.Button(root, text=\"showwarning\", command=showwarning, width=15).pack()\n",
    "tk.Button(root, text=\"showerror\", command=showerror, width=15).pack()\n",
    "tk.Button(root, text=\"showAskquestion\", command=showAskquestion, width=15).pack()\n",
    "\n",
    "root.mainloop()\n"
   ]
  }
 ],
 "metadata": {
  "interpreter": {
   "hash": "20ef3b7124a8081da5004f54eb16c7a65d07e758a78bf77c66ea075aa2bc94cd"
  },
  "kernelspec": {
   "display_name": "Python 3.10.3 64-bit",
   "language": "python",
   "name": "python3"
  },
  "language_info": {
   "codemirror_mode": {
    "name": "ipython",
    "version": 3
   },
   "file_extension": ".py",
   "mimetype": "text/x-python",
   "name": "python",
   "nbconvert_exporter": "python",
   "pygments_lexer": "ipython3",
   "version": "3.10.3"
  },
  "orig_nbformat": 4
 },
 "nbformat": 4,
 "nbformat_minor": 2
}
