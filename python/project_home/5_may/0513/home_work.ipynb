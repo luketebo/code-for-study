{
 "cells": [
  {
   "cell_type": "markdown",
   "metadata": {},
   "source": [
    "# 模拟诗歌输出"
   ]
  },
  {
   "cell_type": "code",
   "execution_count": null,
   "metadata": {},
   "outputs": [],
   "source": [
    "import tkinter\n",
    "\n",
    "root = tkinter.Tk()\n",
    "\n",
    "win_1 = tkinter.Label(root, text=\"暮冬时烤雪\", anchor=\"w\")\n",
    "win_2 = tkinter.Label(root, text=\"迟夏写长信\", anchor=\"e\")\n",
    "win_3 = tkinter.Label(root, text=\"早春不过一棵树\", anchor=\"center\")\n",
    "win_1.pack()\n",
    "win_2.pack()\n",
    "win_3.pack()\n",
    "\n",
    "root.mainloop()"
   ]
  },
  {
   "cell_type": "code",
   "execution_count": null,
   "metadata": {},
   "outputs": [],
   "source": [
    "import tkinter\n",
    "\n",
    "root = tkinter.Tk()\n",
    "\n",
    "win_1 = tkinter.Label(root, text=\"暮冬时烤雪\", anchor=\"w\")\n",
    "win_2 = tkinter.Label(root, text=\"迟夏写长信\", anchor=\"e\")\n",
    "win_3 = tkinter.Label(root, text=\"早春不过一棵树\", anchor=\"center\")\n",
    "win_1.pack(side=\"left\")\n",
    "win_2.pack(side=\"left\")\n",
    "win_3.pack(side=\"left\")\n",
    "\n",
    "root.mainloop()\n"
   ]
  },
  {
   "cell_type": "markdown",
   "metadata": {},
   "source": [
    "# 利用anchor 参数，实现程序"
   ]
  },
  {
   "cell_type": "code",
   "execution_count": null,
   "metadata": {},
   "outputs": [],
   "source": [
    "import tkinter as tk\n",
    "\n",
    "root = tk.Tk()\n",
    "\n",
    "root.geometry(\"400x400\")\n",
    "\n",
    "exit_win = tk.Label(root, text=\"确定退出窗口吗？\", width=20, height=5, anchor=\"center\")\n",
    "exit_win.pack()\n",
    "\n",
    "exit_but = tk.Button(root, text=\"果断退出\", command=root.quit, anchor=\"ne\", bg=\"purple\", padx=\"10\", pady=\"10\")\n",
    "think_but = tk.Button(root, text=\"我再想想\", command=root.destroy, anchor=\"nw\", bg=\"green\", padx=\"10\", pady=\"10\")\n",
    "exit_but.pack()\n",
    "think_but.pack()\n",
    "\n",
    "root.mainloop()"
   ]
  },
  {
   "cell_type": "markdown",
   "metadata": {},
   "source": [
    "# 模拟图片"
   ]
  },
  {
   "cell_type": "code",
   "execution_count": null,
   "metadata": {},
   "outputs": [],
   "source": [
    "import tkinter as tk\n",
    "\n",
    "root = tk.Tk()\n",
    "\n",
    "root.geometry(\"400x400\")\n",
    "\n",
    "imageobj = tk.PhotoImage(file=\"UI初稿.png\")\n",
    "\n",
    "label = tk.Label(root, image=imageobj)\n",
    "label.pack()\n",
    "\n",
    "root.mainloop()"
   ]
  },
  {
   "cell_type": "markdown",
   "metadata": {},
   "source": [
    "# 设计用户登录界面"
   ]
  },
  {
   "cell_type": "code",
   "execution_count": null,
   "metadata": {},
   "outputs": [],
   "source": [
    "import tkinter as tk\n",
    "\n",
    "root = tk.Tk()\n",
    "\n",
    "root.geometry(\"400x400\")\n",
    "\n",
    "tk.Label(root,text=\"用户名:\").place(x=100, y=150)\n",
    "tk.Label(root, text=\"密码:\").place(x=100, y=190)\n",
    "# 用户输入框\n",
    "val_use_name = tk.StringVar()\n",
    "entry_use_name = tk.Entry(root, textvariable=val_use_name)\n",
    "entry_use_name.place(x=160, y=150)\n",
    "# 密码\n",
    "val_use_pwd = tk.StringVar()\n",
    "entry_use_pwd = tk.Entry(root, textvariable=val_use_pwd, show=\"*\")\n",
    "entry_use_pwd.place(x=160, y=190)\n",
    "\n",
    "# 登录函数\n",
    "def login():     \n",
    "    use_name = val_use_name.get()\n",
    "    use_pwd = val_use_pwd.get()\n",
    "    if use_name == \"user1\" and use_pwd == \"123\":\n",
    "        tk.messagebox.showinfo(title=\"welcome\", message=\"欢迎登录\")\n",
    "    else:\n",
    "        tk.messagebox.showinfo(title=\"error\", message=\"账号或密码错误\")\n",
    "    \n",
    "\n",
    "\n",
    "# 登录\n",
    "bt_login = tk.Button(root, text=\"登录\", command=login)\n",
    "bt_login.place(x=200, y=230)\n",
    "\n",
    "\n",
    "\n",
    "root.mainloop()"
   ]
  },
  {
   "cell_type": "markdown",
   "metadata": {},
   "source": [
    "# 完成计算器"
   ]
  },
  {
   "cell_type": "code",
   "execution_count": null,
   "metadata": {},
   "outputs": [],
   "source": [
    "from tkinter import *\n",
    "\n",
    "\n",
    "root = Tk()\n",
    "root.geometry(\"400x400\")\n",
    "\n",
    "def add():\n",
    "    re.delete(0, END)\n",
    "    add_1 = int(op1.get())\n",
    "    add_2 = int(op2.get())\n",
    "    re.insert(INSERT, add_1 + add_2)\n",
    "    \n",
    "op1 = Entry(root, width=5, relief=\"groove\")\n",
    "op1.grid(row = 0, pady = 20)\n",
    "Label(root, text=\"+\").grid(row = 0, column = 1)\n",
    "op2 = Entry(root, width=5, relief=\"groove\")\n",
    "op2.grid(row = 0, column = 2)\n",
    "Label(root, text=\"=\").grid(row = 0, column = 3)\n",
    "re = Entry(win, width=5, relief=\"groove\")\n",
    "re.grid(row = 0, column = 4)\n",
    "Button(root, text=\"计算\", command=add, relief=\"groove\").grid(row=1, columnspan=5, ipadx=10)\n",
    "root.mainloop()\n"
   ]
  }
 ],
 "metadata": {
  "language_info": {
   "name": "python"
  },
  "orig_nbformat": 4
 },
 "nbformat": 4,
 "nbformat_minor": 2
}
