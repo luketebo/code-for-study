{
 "cells": [
  {
   "cell_type": "markdown",
   "metadata": {},
   "source": [
    "# price"
   ]
  },
  {
   "cell_type": "code",
   "execution_count": null,
   "metadata": {},
   "outputs": [],
   "source": [
    "list = []\n",
    "dic_demo = {}\n",
    "print(\"input the price: \\n\")\n",
    "for i in range(10):\n",
    "    dic_demo.keys = i\n",
    "    dic_demo.values = int(input())\n",
    "    \n",
    "print(sorted(dic_demo.values()))   \n",
    "# def ascend(dic_demo) -> none\n",
    "#     print(sorted(dic_demo.values()))    \n",
    "    \n",
    "# def disascend(list):\n",
    "    \n",
    "# ascend(dic_demo)    \n",
    "    \n",
    "        "
   ]
  },
  {
   "cell_type": "markdown",
   "metadata": {},
   "source": [
    "# friend system    add delete edit show exit"
   ]
  },
  {
   "cell_type": "code",
   "execution_count": null,
   "metadata": {},
   "outputs": [],
   "source": []
  },
  {
   "cell_type": "markdown",
   "metadata": {},
   "source": [
    "average grade"
   ]
  }
 ],
 "metadata": {
  "interpreter": {
   "hash": "04c4536036e3f09beda75c74a8b8071b0497dc799546b6e35c61d754cf705ead"
  },
  "kernelspec": {
   "display_name": "Python 3.10.3 64-bit",
   "language": "python",
   "name": "python3"
  },
  "language_info": {
   "name": "python",
   "version": "3.10.3"
  },
  "orig_nbformat": 4
 },
 "nbformat": 4,
 "nbformat_minor": 2
}
