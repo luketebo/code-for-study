{
 "cells": [
  {
   "cell_type": "markdown",
   "metadata": {},
   "source": [
    "# price"
   ]
  },
  {
   "cell_type": "code",
   "execution_count": 34,
   "metadata": {},
   "outputs": [
    {
     "name": "stdout",
     "output_type": "stream",
     "text": [
      "input the price: \n",
      "\n",
      "input you choice\n",
      "1. up    2. down\n",
      "[(0, 23), (3, 32), (1, 34), (4, 34), (2, 54)]\n"
     ]
    }
   ],
   "source": [
    "list = []\n",
    "dic_demo = {}\n",
    "print(\"input the price: \\n\")\n",
    "for i in range(5):\n",
    "    value = int(input())\n",
    "    dic_demo.update({i:value})   \n",
    "print(\"input you choice\")\n",
    "print(\"1. up    2. down\")\n",
    "choice = int(input())\n",
    "if choice == 1:\n",
    "    choice = True\n",
    "else:\n",
    "    choice = False\n",
    "print(sorted(dic_demo.items(),key=lambda s:s[1], reverse=choice))         "
   ]
  },
  {
   "cell_type": "markdown",
   "metadata": {},
   "source": [
    "# friend system    add delete edit show exit"
   ]
  },
  {
   "cell_type": "code",
   "execution_count": 3,
   "metadata": {},
   "outputs": [
    {
     "name": "stdout",
     "output_type": "stream",
     "text": [
      "-----------------------welcome to the friend system--------------------\n",
      "1. add a friend  2. delete a friend  3. edit a friend  4. show a friend\n",
      "5. exit\n",
      "input you choice\n",
      "1\n",
      "adding a friend\n",
      "input you choice\n",
      "4\n",
      "['zhanSan']\n",
      "input you choice\n",
      "3\n",
      "editing the friend\n",
      "success!!!\n",
      "input you choice\n",
      "4\n",
      "['liSi']\n",
      "input you choice\n",
      "5\n",
      "see you latter\n"
     ]
    }
   ],
   "source": [
    "print(\"-----------------------welcome to the friend system--------------------\")\n",
    "print(\"1. add a friend  2. delete a friend  3. edit a friend  4. show a friend\")\n",
    "print(\"5. exit\")\n",
    "friend = []\n",
    "while(1):\n",
    "    print(\"input you choice\")\n",
    "    n = int(input())\n",
    "    print(n)\n",
    "    if n == 1:\n",
    "        print(\"adding a friend\")\n",
    "        name = input(\"input the friend name\")\n",
    "        friend.append(name)\n",
    "    elif n == 2:\n",
    "        print(\"deleting the friend \")\n",
    "        name = input(\"input the friend name\")\n",
    "        if name in friend :\n",
    "            friend.remove(name)\n",
    "            print(\"success!!!\")\n",
    "        else:\n",
    "            print(\"name not exit\")\n",
    "    elif n == 3:\n",
    "        print(\"editing the friend\")\n",
    "        name = input(\"input the friend name\")\n",
    "        if name in friend :\n",
    "            n = friend.index(name)\n",
    "            name = input(\"input the new name\")\n",
    "            friend[n] = name\n",
    "            print(\"success!!!\")\n",
    "        else:\n",
    "            print(\"name not exit\")\n",
    "    elif n == 4:\n",
    "        print(friend)\n",
    "    elif n == 5:\n",
    "        print(\"see you latter\")\n",
    "        break"
   ]
  },
  {
   "cell_type": "markdown",
   "metadata": {},
   "source": [
    "# random office"
   ]
  },
  {
   "cell_type": "code",
   "execution_count": 13,
   "metadata": {},
   "outputs": [
    {
     "name": "stdout",
     "output_type": "stream",
     "text": [
      "[['7', '5', '6'], ['1', '4', '8'], ['2', '3', 0]]\n"
     ]
    }
   ],
   "source": [
    "import random\n",
    "people = ['1','2','3','4','5','6','7','8']\n",
    "room = []\n",
    "for i in range(3):\n",
    "    x = []\n",
    "    room.append(x)\n",
    "    for j in range(3):\n",
    "        if i == 2 and j == 2:\n",
    "            x.append(0)\n",
    "            break\n",
    "        n = random.choice(people)\n",
    "        people.remove(n)\n",
    "        x.append(n)\n",
    "print(room)\n"
   ]
  },
  {
   "cell_type": "markdown",
   "metadata": {},
   "source": [
    "# chinese digit control table"
   ]
  },
  {
   "cell_type": "code",
   "execution_count": 18,
   "metadata": {},
   "outputs": [
    {
     "name": "stdout",
     "output_type": "stream",
     "text": [
      "叁捌伍壹贰伍"
     ]
    }
   ],
   "source": [
    "list = ['零','壹','贰','叁','肆','伍','陆','柒','捌','玖']\n",
    "\n",
    "number = input(\"input the number you want\")\n",
    "\n",
    "for i in range(len(number)):\n",
    "    print(list[int(number[i])],end='')"
   ]
  },
  {
   "cell_type": "markdown",
   "metadata": {},
   "source": [
    "# Double ball"
   ]
  },
  {
   "cell_type": "code",
   "execution_count": 33,
   "metadata": {},
   "outputs": [
    {
     "name": "stdout",
     "output_type": "stream",
     "text": [
      "[11, 27, 8, 10, 2]\n",
      "[11, 27, 8, 10, 2, 1]\n",
      "1. machine create auto 2. choose for you self\n",
      "the machine choose num [29, 12, 19, 18, 6, 13]\n",
      "[11, 27, 8, 10, 2, 1]\n",
      "[29, 12, 19, 18, 6, 13]\n",
      "0\n",
      "0\n"
     ]
    }
   ],
   "source": [
    "import random\n",
    "list = []\n",
    "for i in range(5):\n",
    "    num = random.randint(1,33)\n",
    "    while True:\n",
    "        if num in list:\n",
    "            num = random.randint(1,33)\n",
    "        else: break\n",
    "    list.append(num)\n",
    "list.reverse()\n",
    "print(list)\n",
    "list.append(random.randint(1,16))\n",
    "print(list)  ## rewarding\n",
    "def rewarding(list,list_new):\n",
    "    count = 0\n",
    "    count_last = 0\n",
    "    print(list)\n",
    "    print(list_new)\n",
    "    for i in range(5):\n",
    "        if list[i] == list_new[i]:\n",
    "            count += 1\n",
    "    if list[5] == list_new[5]:\n",
    "        count_last += 1 \n",
    "        \n",
    "    print(count)\n",
    "    print(count_last)      \n",
    "    if count == 6 and count_last == 1:\n",
    "        print(\"one rewarding 5000000$\")\n",
    "    elif count == 6:\n",
    "        print(\"two rewarding 100000$\")\n",
    "    elif count == 5 and count_last == 1:\n",
    "        print(\"third rewarding 3000$\")\n",
    "    elif (count == 4 and count_last == 1) or count == 5:\n",
    "        print(\"four rewarding 200$\")\n",
    "    elif (count == 3 and count_last == 1) or count == 4:\n",
    "        print(\"five rewarding 10$\")\n",
    "    elif count >= 2 and count_last == 1:\n",
    "        print(\"six rewarding 5$\")   \n",
    "print(\"1. machine create auto 2. choose for you self\")\n",
    "choose = int(input())\n",
    "if choose == 1:\n",
    "    list_mac = []\n",
    "    for i in range(5):\n",
    "        num_mac = random.randint(1,33)\n",
    "        while True:\n",
    "            if num_mac in list_mac:\n",
    "                num_mac = random.randint(1,33)\n",
    "            else:\n",
    "                break \n",
    "        list_mac.append(num_mac)    \n",
    "    list_mac.reverse()\n",
    "    list_mac.append(random.randint(1,16))    \n",
    "    print(f\"the machine choose num {list_mac}\")\n",
    "    rewarding(list,list_mac)\n",
    "elif choose == 2:\n",
    "    list_self = []\n",
    "    for i in range(5):\n",
    "        num_self = int(input(\"input the five number between 1 - 30\"))\n",
    "        while True:\n",
    "            if num_self in list_self:\n",
    "                num_self = int(input(\"input the number again\"))\n",
    "            else:\n",
    "                break\n",
    "        list_self.append(num_self)\n",
    "    list_self.reverse()\n",
    "    num_self_last = int(input(\"input the last number\"))\n",
    "    list_self.append(num_self_last)\n",
    "    rewarding(list,list_self)\n"
   ]
  },
  {
   "cell_type": "markdown",
   "metadata": {},
   "source": [
    "# dictionary: word frequently"
   ]
  },
  {
   "cell_type": "code",
   "execution_count": 32,
   "metadata": {},
   "outputs": [
    {
     "name": "stdout",
     "output_type": "stream",
     "text": [
      "input the word you want if you input 'no' will exit\n",
      "about\n",
      "send\n",
      "about\n",
      "me\n",
      "{'about': 2, 'send': 1, 'me': 1}\n"
     ]
    }
   ],
   "source": [
    "list = []\n",
    "list_word = []\n",
    "print(\"input the word you want if you input 'no' will exit\")\n",
    "while True:\n",
    "    word = input()\n",
    "    if word == 'no' or word == 'NO':\n",
    "        break\n",
    "    print(word)\n",
    "    list.append(word)\n",
    "    \n",
    "word_dic = {}\n",
    "# count = 0  \n",
    "for i in range(len(list)):\n",
    "    count = 0\n",
    "    for j in range(i,len(list)):\n",
    "        if list[i] == list[j]:\n",
    "            count += 1\n",
    "    if list[i] not in word_dic:\n",
    "        word_dic.update({list[i]:count})\n",
    "print(word_dic)\n",
    "    "
   ]
  },
  {
   "cell_type": "markdown",
   "metadata": {},
   "source": [
    "# hamlet english word"
   ]
  },
  {
   "cell_type": "code",
   "execution_count": null,
   "metadata": {},
   "outputs": [],
   "source": [
    "def getText():\n",
    "    txt = open(\"hamlet.txt\", \"r\").read()\n",
    "    txt = txt.lower()\n",
    "    for ch in '!\"#$%()*+,-./:;<=>?@[\\\\]^_\"{|}~':\n",
    "        txt = txt.replace(ch, \" \")\n",
    "    return txt\n",
    "\n",
    "\n",
    "hamletTxt = getText()\n",
    "words = hamletTxt.split()\n",
    "counts = {}\n",
    "for word in words:\n",
    "    counts[word] = counts.get(word, 0) + 1\n",
    "items = list(counts.items())\n",
    "items.sort(key=lambda x: x[1], reverse=True)\n",
    "for i in range(10):\n",
    "    word, count = items[i]\n",
    "    print(\"{0:<10}{1:>5}\".format(word, count))\n"
   ]
  },
  {
   "cell_type": "markdown",
   "metadata": {},
   "source": [
    "# A Dream in Red Mansions"
   ]
  },
  {
   "cell_type": "code",
   "execution_count": null,
   "metadata": {},
   "outputs": [],
   "source": [
    "import jieba\n",
    "\n",
    "txt = open(\"threekingdoms.txt\", \"r\", encoding=\"utf-8\").read()\n",
    "words = jieba.lcut(txt)\n",
    "counts = {}\n",
    "for word in words:\n",
    "    if len(word) == 1:\n",
    "        continue\n",
    "    else:\n",
    "        counts[word] = counts.get(word, 0) + 1\n",
    "items = list(counts.items())\n",
    "items.sort(key=lambda s: s[1], reverse=True)\n",
    "for i in range(15):\n",
    "    word, count = items[i]\n",
    "    print(\"{0:<10}{1:>5}\".format(word, count))\n"
   ]
  },
  {
   "cell_type": "markdown",
   "metadata": {},
   "source": [
    "# word frequently"
   ]
  },
  {
   "cell_type": "code",
   "execution_count": 28,
   "metadata": {},
   "outputs": [
    {
     "name": "stdout",
     "output_type": "stream",
     "text": [
      "input the word you want, if you input 'no' you will exit\n",
      "take about zoo take about ['take', 'about', 'zoo', 'take', 'about']\n",
      "no repeat word : 3\n"
     ]
    }
   ],
   "source": [
    "print(\"input the word you want, if you input 'no' you will exit\")\n",
    "list = []\n",
    "while True:\n",
    "    word = input()\n",
    "    if word == 'no' or word == 'NO': \n",
    "        break\n",
    "    print(word,end=' ')\n",
    "    list.append(word)\n",
    "print(list)\n",
    "count = 0\n",
    "flag = []\n",
    "for i in range(len(list)):\n",
    "    count = 0\n",
    "    for j in range(i,len(list)):\n",
    "        if list[i] == list[j]:\n",
    "            count += 1\n",
    "    flag.append(count)\n",
    "count = 0\n",
    "for i in range(len(flag)):\n",
    "    if flag[i] == 1:\n",
    "        count += 1\n",
    "print(f\"no repeat word : {count}\")"
   ]
  }
 ],
 "metadata": {
  "interpreter": {
   "hash": "04c4536036e3f09beda75c74a8b8071b0497dc799546b6e35c61d754cf705ead"
  },
  "kernelspec": {
   "display_name": "Python 3.10.3 64-bit",
   "language": "python",
   "name": "python3"
  },
  "language_info": {
   "codemirror_mode": {
    "name": "ipython",
    "version": 3
   },
   "file_extension": ".py",
   "mimetype": "text/x-python",
   "name": "python",
   "nbconvert_exporter": "python",
   "pygments_lexer": "ipython3",
   "version": "3.10.4"
  },
  "orig_nbformat": 4
 },
 "nbformat": 4,
 "nbformat_minor": 2
}
