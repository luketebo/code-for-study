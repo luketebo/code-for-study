{
 "cells": [
  {
   "cell_type": "markdown",
   "metadata": {},
   "source": [
    "# 统计三国人物出场次数"
   ]
  },
  {
   "cell_type": "code",
   "execution_count": null,
   "metadata": {},
   "outputs": [],
   "source": [
    "import jieba\n",
    "with open('threekingdoms.txt','r') as f:\n",
    "    txt = f.read()\n",
    "\n",
    "words = jieba.lcut(txt)\n",
    "counts = {}\n",
    "for word in words:\n",
    "    if len(word) == 1:\n",
    "        continue\n",
    "    else:\n",
    "        counts[word] = counts.get(word,0) + 1\n",
    "    \n",
    "items = list(counts.items())\n",
    "items.sort(key=lambda x:x[1],reverse=True)\n",
    "for i in range(15):\n",
    "    word, count = items[i]\n",
    "    print(\"{0:<10}{1:>5}\".format(word,count))\n",
    "    "
   ]
  },
  {
   "cell_type": "markdown",
   "metadata": {},
   "source": [
    "# 统计任务出场次数 除三国"
   ]
  },
  {
   "cell_type": "code",
   "execution_count": null,
   "metadata": {},
   "outputs": [],
   "source": [
    "import jieba\n",
    "with open('threekingdoms.txt','r') as f:\n",
    "    txt = f.read()\n",
    "\n",
    "words = jieba.lcut(txt)\n",
    "counts = {}\n",
    "for word in words:\n",
    "    if len(word) == 1:\n",
    "        continue\n",
    "    else:\n",
    "        counts[word] = counts.get(word,0) + 1\n",
    "    \n",
    "items = list(counts.items())\n",
    "items.sort(key=lambda x:x[1],reverse=True)\n",
    "for i in range(15):\n",
    "    word, count = items[i]\n",
    "    print(\"{0:<10}{1:>5}\".format(word,count))"
   ]
  },
  {
   "cell_type": "markdown",
   "metadata": {},
   "source": [
    "# 手机通讯录实现"
   ]
  },
  {
   "cell_type": "code",
   "execution_count": null,
   "metadata": {},
   "outputs": [],
   "source": [
    "address_list = {}\n",
    "\n",
    "\n",
    "def add():\n",
    "    name = input(\"请输入姓名：\")\n",
    "    phone = input(\"请输入电话：\")\n",
    "    email = input(\"请输入邮箱：\")\n",
    "    address = input(\"请输入地址：\")\n",
    "    address_list.update({name:{'phone':phone,'email':email,'address':address}})\n",
    "    print(\"保存成功\") \n",
    "    print(\"add\")\n",
    "    \n",
    "def delete(name):\n",
    "    if name in address_list.keys:\n",
    "        address_list.pop(name)\n",
    "        print(\"删除成功\")\n",
    "    else:\n",
    "        print(\"没有这个人\")\n",
    "    \n",
    "def find(name):\n",
    "    if name in address_list.keys:\n",
    "        print(\"姓名：{0}\".format(name))\n",
    "        print(\"电话：{0}\".format(address_list[name]['phone']))\n",
    "        print(\"邮箱：{0}\".format(address_list[name]['email']))\n",
    "        print(\"地址：{0}\".format(address_list[name]['address']))\n",
    "    else:\n",
    "        print(\"没有这个人\")\n",
    "\n",
    "    \n",
    "def show():\n",
    "    print(address_list)\n",
    "\n",
    "\n",
    "def edit(name):\n",
    "    if name in address_list.keys:\n",
    "        address_list[name]['phone'] = input(\"请输入电话：\")\n",
    "        address_list[name]['email'] = input(\"请输入邮箱：\")\n",
    "        address_list[name]['address'] = input(\"请输入地址：\")\n",
    "        print(\"修改成功\")\n",
    "    else:\n",
    "        print(\"没有这个人\")\n",
    "\n",
    "\n",
    "print(\"欢迎使用通信录\")\n",
    "print(\"1. 添加联系人\")\n",
    "print(\"2. 查看通讯录\")\n",
    "print(\"3. 删除联系人\")\n",
    "print(\"4. 修改联系人信息\")\n",
    "print(\"5. 查找联系人\")\n",
    "print(\"6. 退出通信录\")\n",
    "while True:\n",
    "    method = int(input(\"请输入操作序号：\"))\n",
    "    if method == 1:\n",
    "        add()\n",
    "    elif method == 2:\n",
    "        show()\n",
    "    elif method == 3:\n",
    "        name = input(\"请输入姓名：\")\n",
    "        delete(name)\n",
    "    elif method == 4:\n",
    "        name = input(\"请输入姓名：\")\n",
    "        edit(name)\n",
    "    elif method == 5:\n",
    "        name = input(\"请输入姓名：\")\n",
    "        find(name)\n",
    "    else:\n",
    "        break    "
   ]
  },
  {
   "cell_type": "markdown",
   "metadata": {},
   "source": [
    "# 利用集合完成生词本"
   ]
  },
  {
   "cell_type": "code",
   "execution_count": null,
   "metadata": {},
   "outputs": [],
   "source": [
    "voctionary = {}\n",
    "\n",
    "def main():\n",
    "    print(\"欢迎使用生词记录器\")\n",
    "    print(\"1. 查看生词\")\n",
    "    print(\"2. 背单词\")\n",
    "    print(\"3. 添加生词\")\n",
    "    print(\"4. 删除单词\")\n",
    "    print(\"5. 清空单词\")\n",
    "    print(\"6. 退出生词记录器\")\n",
    "    print(\"================\")\n",
    "                \n",
    "    "
   ]
  },
  {
   "cell_type": "markdown",
   "metadata": {},
   "source": [
    "# 计算器"
   ]
  },
  {
   "cell_type": "code",
   "execution_count": null,
   "metadata": {},
   "outputs": [],
   "source": [
    "def add():\n",
    "    num1 = int(input(\"input num1:\"))\n",
    "    num2 = int(input(\"input num2:\"))\n",
    "    print(num1 + num2)\n",
    " \n",
    "def sub():\n",
    "    num1 = int(input(\"input num1:\"))\n",
    "    num2 = int(input(\"input num2:\"))\n",
    "    print(num1 - num2)\n",
    "    \n",
    "def mul():\n",
    "    num1 = int(input(\"input num1:\"))\n",
    "    num2 = int(input(\"input num2:\"))\n",
    "    print(num1 * num2)\n",
    "    \n",
    "def div():\n",
    "    num1 = float(input(\"input num1:\"))\n",
    "    num2 = float(input(\"input num2:\"))\n",
    "    print(num1 / num2)    \n",
    "    \n",
    "def main():\n",
    "    print(\"1. add\")\n",
    "    print(\"2. sub\")\n",
    "    print(\"3. mul\")\n",
    "    print(\"4. div\")\n",
    "    print(\"5. quit\")    \n",
    "    while True:\n",
    "        num = int(input(\"请输入操作序号：\"))\n",
    "        if num == 1:\n",
    "            add()\n",
    "        elif num == 2:\n",
    "            sub()\n",
    "        elif num == 3:\n",
    "            mul()\n",
    "        elif num == 4:\n",
    "            div()\n",
    "        else:\n",
    "            break\n",
    "        \n"
   ]
  },
  {
   "cell_type": "markdown",
   "metadata": {},
   "source": [
    "# 把手机通讯录改为函数实现"
   ]
  },
  {
   "cell_type": "code",
   "execution_count": null,
   "metadata": {},
   "outputs": [],
   "source": []
  }
 ],
 "metadata": {
  "interpreter": {
   "hash": "04c4536036e3f09beda75c74a8b8071b0497dc799546b6e35c61d754cf705ead"
  },
  "kernelspec": {
   "display_name": "Python 3.10.3 64-bit",
   "language": "python",
   "name": "python3"
  },
  "language_info": {
   "name": "python",
   "version": "3.10.3"
  },
  "orig_nbformat": 4
 },
 "nbformat": 4,
 "nbformat_minor": 2
}
