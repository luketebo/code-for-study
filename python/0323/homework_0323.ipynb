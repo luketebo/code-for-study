{
 "cells": [
  {
   "cell_type": "markdown",
   "metadata": {},
   "source": [
    "题目1：一个整数，它加上100后是一个完全平方数，再加上268又是一个完全平方数，请使用该数是多少？\n",
    "该数是多少？"
   ]
  },
  {
   "cell_type": "code",
   "execution_count": null,
   "metadata": {},
   "outputs": [],
   "source": [
    "flag_s = False\n",
    "flag_n = False\n",
    "for i in range(1,100001):\n",
    "    n = i + 100\n",
    "    s = n + 268\n",
    "    for j in range(1,n):\n",
    "        if n == j * j:\n",
    "            flag_n = True\n",
    "            break\n",
    "    for m in range(1,s):\n",
    "        if s == m * m:\n",
    "            flag_s = True\n",
    "            break        \n",
    "    if flag_n and flag_s:\n",
    "        print(f\"i={i:-2}\",end=' ')\n"
   ]
  },
  {
   "cell_type": "code",
   "execution_count": 57,
   "metadata": {},
   "outputs": [
    {
     "name": "stdout",
     "output_type": "stream",
     "text": [
      "461\n"
     ]
    }
   ],
   "source": [
    "a=[];\n",
    "N=100005;\n",
    "for i in range(0,N):\n",
    "    a.append(i*i)\n",
    "    if i>0 and a[i]-368 in a:\n",
    "        print(a[i]-268)\n",
    "        break;"
   ]
  },
  {
   "cell_type": "markdown",
   "metadata": {},
   "source": [
    "题目2：从键盘输入一个字符串，统计其中大写字母，小写字母，数字字符，空格和其他字符出现的次数"
   ]
  },
  {
   "cell_type": "code",
   "execution_count": 13,
   "metadata": {},
   "outputs": [
    {
     "name": "stdout",
     "output_type": "stream",
     "text": [
      "Abc&&90  \n",
      "low:2 high:1 num:2 space:2 other:2\n"
     ]
    }
   ],
   "source": [
    "n = input()\n",
    "print(n)\n",
    "low = 0\n",
    "high = 0\n",
    "num = 0\n",
    "space = 0\n",
    "other = 0\n",
    "for i in range(len(n)):\n",
    "    if 'A' <= n[i] <= 'Z':\n",
    "        high += 1\n",
    "    elif 'a' <= n[i] <= 'z':\n",
    "        low += 1\n",
    "    elif '0' <= n[i] <= '9':\n",
    "        num += 1\n",
    "    elif n[i] == ' ':\n",
    "        space += 1\n",
    "    else:\n",
    "        other += 1\n",
    "\n",
    "print(f\"low:{low} high:{high} num:{num} space:{space} other:{other}\") "
   ]
  },
  {
   "cell_type": "markdown",
   "metadata": {},
   "source": [
    "题目3：输出1-100所有的素数"
   ]
  },
  {
   "cell_type": "code",
   "execution_count": 16,
   "metadata": {},
   "outputs": [
    {
     "name": "stdout",
     "output_type": "stream",
     "text": [
      "[2, 3, 5, 7, 11, 13, 17, 19, 23, 29, 31, 37, 41, 43, 47, 53, 59, 61, 67, 71, 73, 79, 83, 89, 97]\n"
     ]
    }
   ],
   "source": [
    "num=[];\n",
    "i=2\n",
    "for i in range(2,100):\n",
    "   j=2\n",
    "   for j in range(2,i):\n",
    "      if(i%j==0):\n",
    "         break\n",
    "   else:\n",
    "      num.append(i)\n",
    "print(num)"
   ]
  },
  {
   "cell_type": "markdown",
   "metadata": {},
   "source": [
    "题目4：猜数字"
   ]
  },
  {
   "cell_type": "code",
   "execution_count": 20,
   "metadata": {},
   "outputs": [
    {
     "name": "stdout",
     "output_type": "stream",
     "text": [
      "第1论输入：4\n",
      "little and wrong\n",
      "第2论输入：3\n",
      "little and wrong\n",
      "第3论输入：6\n",
      "little and wrong\n",
      "第4论输入：5\n",
      "little and wrong\n",
      "第5论输入：4\n",
      "little and wrong\n",
      "this game end and you lose\n"
     ]
    }
   ],
   "source": [
    "import random\n",
    "\n",
    "flag = False\n",
    "while True:\n",
    "    answer = random.randint(1,11)\n",
    "    for i in range(1,6):\n",
    "        num = int(input())\n",
    "        print(f\"第{i}论输入：{num}\")\n",
    "        if num > answer:\n",
    "            print(\"surpass and wrong\")\n",
    "        elif num < answer:\n",
    "            print(\"little and wrong\")\n",
    "        elif num == answer:\n",
    "            print(\"right\")\n",
    "            flag = True\n",
    "            break\n",
    "    if flag :\n",
    "        print(\"this game end and you win\")\n",
    "        break\n",
    "    else:\n",
    "        print(\"this game end and you lose\")\n",
    "        break\n",
    "    "
   ]
  },
  {
   "cell_type": "markdown",
   "metadata": {},
   "source": [
    "题目5：十以内的四则运算随机出题程序v1.0"
   ]
  },
  {
   "cell_type": "code",
   "execution_count": 21,
   "metadata": {},
   "outputs": [
    {
     "name": "stdout",
     "output_type": "stream",
     "text": [
      "5 - 7 = -2.0\n",
      "8 + 1 = 9.0\n",
      "4 / 4 = 1.0\n",
      "8 + 9 = 17.0\n",
      "3 * 4 = 12.0\n",
      "------------result---------\n",
      "\n",
      "count:5,right:5,error:0,sum:100\n"
     ]
    }
   ],
   "source": [
    "import random\n",
    "\n",
    "def judge(a,b,s) -> int:\n",
    "    if s == '+':\n",
    "        return a + b\n",
    "    elif s == '-':\n",
    "        return a - b\n",
    "    elif s == '*':\n",
    "        return a * b\n",
    "    elif s == '/':\n",
    "        return a / b\n",
    "\n",
    "i = 0\n",
    "right = 0\n",
    "error = 0\n",
    "sum = 0\n",
    "c = 0\n",
    "str = \"+-*/\"\n",
    "count = int(input(\"Please enter the number of questions you want to complete:\"))\n",
    "aver = int(100 / count)\n",
    "while i < count:\n",
    "    a = random.randint(1,9)\n",
    "    b = random.randint(1,9)\n",
    "    op = random.choice(str)\n",
    "    answer = float(input(f\"{a} {op} {b} = \"))\n",
    "    print(f\"{a} {op} {b} = {answer}\")\n",
    "    if answer == judge(a,b,op):\n",
    "        right += 1\n",
    "        sum += aver \n",
    "    elif answer != judge(a,b,op):\n",
    "        error += 1\n",
    "     \n",
    "    i += 1\n",
    "    \n",
    "print(\"------------result---------\\n\")\n",
    "print(f\"count:{count},right:{right},error:{error},sum:{sum}\")   "
   ]
  },
  {
   "cell_type": "markdown",
   "metadata": {},
   "source": [
    "题目6：数据加密 将英文字母组成的字符串进行加密，规则为：每个字母用它后面的第5个字母代替，编写程序对用户输入的字符串进行加密和解密"
   ]
  },
  {
   "cell_type": "code",
   "execution_count": null,
   "metadata": {},
   "outputs": [],
   "source": [
    "n = input()\n",
    "print(n)\n",
    "for i in range(len(n)):\n",
    "    a = str(n[i])\n",
    "    ord(a) += 37\n",
    "    n[i] = chr(a)\n",
    "print(n)\n",
    "# for i in range(len(n)):\n",
    "#     ord(n[i]) -= 37\n",
    "# print(n)\n"
   ]
  },
  {
   "cell_type": "markdown",
   "metadata": {},
   "source": [
    "题目7：加密v2.0"
   ]
  },
  {
   "cell_type": "code",
   "execution_count": null,
   "metadata": {},
   "outputs": [],
   "source": []
  },
  {
   "cell_type": "markdown",
   "metadata": {},
   "source": [
    "题目8：将考试座号A1-A30放入列表中，先输出一行“座位编码”，然后从下一行开始一次输出作为编号，使用两种方式进行列表输出"
   ]
  },
  {
   "cell_type": "code",
   "execution_count": 42,
   "metadata": {},
   "outputs": [
    {
     "ename": "TypeError",
     "evalue": "can only concatenate str (not \"int\") to str",
     "output_type": "error",
     "traceback": [
      "\u001b[0;31m---------------------------------------------------------------------------\u001b[0m",
      "\u001b[0;31mTypeError\u001b[0m                                 Traceback (most recent call last)",
      "Input \u001b[0;32mIn [42]\u001b[0m, in \u001b[0;36m<cell line: 1>\u001b[0;34m()\u001b[0m\n\u001b[1;32m      1\u001b[0m \u001b[38;5;28;01mfor\u001b[39;00m i \u001b[38;5;129;01min\u001b[39;00m \u001b[38;5;28mrange\u001b[39m(\u001b[38;5;241m1\u001b[39m,\u001b[38;5;241m31\u001b[39m):\n\u001b[1;32m      2\u001b[0m     \u001b[38;5;66;03m# print(f\"A{i}\")\u001b[39;00m\n\u001b[0;32m----> 3\u001b[0m     n \u001b[38;5;241m=\u001b[39m \u001b[38;5;124;43m\"\u001b[39;49m\u001b[38;5;124;43ma\u001b[39;49m\u001b[38;5;124;43m\"\u001b[39;49m\u001b[43m \u001b[49m\u001b[38;5;241;43m+\u001b[39;49m\u001b[43m \u001b[49m\u001b[43mi\u001b[49m\n\u001b[1;32m      4\u001b[0m     \u001b[38;5;28mprint\u001b[39m(n)\n",
      "\u001b[0;31mTypeError\u001b[0m: can only concatenate str (not \"int\") to str"
     ]
    }
   ],
   "source": [
    "for i in range(1,31):\n",
    "    # print(f\"A{i}\")\n",
    "    n = \"a\" + i\n",
    "    print(n)"
   ]
  },
  {
   "cell_type": "markdown",
   "metadata": {},
   "source": [
    "题目9：将5位学生成绩输入系统后，输出一行“这5位同学的成绩：”，然后在下一行输出学生成绩"
   ]
  },
  {
   "cell_type": "code",
   "execution_count": 44,
   "metadata": {},
   "outputs": [
    {
     "name": "stdout",
     "output_type": "stream",
     "text": [
      "the five student grade \n",
      "\n",
      "[98, 76, 56, 78, 65]\n"
     ]
    }
   ],
   "source": [
    "num = []\n",
    "for i in range(1,6):\n",
    "    n = int(input())\n",
    "    # print(f\"the {n}\")\n",
    "    num.append(n)\n",
    "print(\"the five student grade \\n\")\n",
    "print(num)\n",
    "    "
   ]
  },
  {
   "cell_type": "markdown",
   "metadata": {},
   "source": [
    "题目10：随机产生10个学生的某门课程的成绩放入一个列表，空一行后输出这10个学生成绩，并在下一行输出其中的最高分和位置"
   ]
  },
  {
   "cell_type": "code",
   "execution_count": 49,
   "metadata": {},
   "outputs": [
    {
     "name": "stdout",
     "output_type": "stream",
     "text": [
      "[27, 59, 89, 45, 66, 66, 19, 82, 66, 59]\n",
      "max=89 local=3\n"
     ]
    }
   ],
   "source": [
    "import random\n",
    "num = []\n",
    "grade = 0\n",
    "for i in range(1,11):\n",
    "    grade = random.randint(1,100)\n",
    "    num.append(grade)\n",
    "max = num[0]\n",
    "local = 0\n",
    "for i in range(0,10):\n",
    "    if max < num[i]:\n",
    "        max = num[i]\n",
    "        local = i\n",
    "print(num)\n",
    "print(f\"max={max} local={local + 1}\")"
   ]
  }
 ],
 "metadata": {
  "interpreter": {
   "hash": "e7370f93d1d0cde622a1f8e1c04877d8463912d04d973331ad4851f04de6915a"
  },
  "kernelspec": {
   "display_name": "Python 3.10.3 64-bit",
   "language": "python",
   "name": "python3"
  },
  "language_info": {
   "codemirror_mode": {
    "name": "ipython",
    "version": 3
   },
   "file_extension": ".py",
   "mimetype": "text/x-python",
   "name": "python",
   "nbconvert_exporter": "python",
   "pygments_lexer": "ipython3",
   "version": "3.10.3"
  },
  "orig_nbformat": 4
 },
 "nbformat": 4,
 "nbformat_minor": 2
}
