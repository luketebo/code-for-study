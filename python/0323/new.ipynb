{
 "cells": [
  {
   "cell_type": "markdown",
   "metadata": {},
   "source": [
    "题目11：写出下列语句执行结果"
   ]
  },
  {
   "cell_type": "code",
   "execution_count": null,
   "metadata": {},
   "outputs": [],
   "source": [
    "import random\n",
    "var = \" hello python \"\n",
    "var.lstrip()\n",
    "var.rstrip()\n",
    "var.strip()\n",
    "var.strip().strip(\"on\")\n",
    "var.strip().strip(\"h\").strip(\"e\")\n",
    "one = var.replace(\" \",\",\")\n",
    "two = var.replace(\"hello\",\"good\")\n",
    "third = var.replace(\"h\",\"\")\n",
    "print(\"-----------------------\\n\")\n",
    "item = input()\n",
    "num = input()\n",
    "new = chr(ord(item) + 3)\n",
    "low = random.choice(num)\n",
    "upp = random.choice(num).upper()\n",
    "password += upp + new + low\n",
    "s1 = \"Python\"\n",
    "uppers1 = s1.upper()\n",
    "print(uppers1)\n",
    "lowers1 = uppers1.lower()\n",
    "print(lowers1)\n",
    "capitalizes1 = s1.capitalize()\n",
    "print(capitalizes1)\n",
    "name = \"赵钱孙李周吴郑王\"\n",
    "for i in range(len(name)):\n",
    "    print(name[i])\n",
    "for index,item in enumerate(name):\n",
    "    print(index + 1, item)\n",
    "name = \"玄德出马，左右云长，右有翼德\"\n",
    "count = name.count(name[6])\n",
    "new = name.find(\"德\",5)\n",
    "len(name[0::2])\n",
    "surname = \"赵构钱丽孙周可安李冯赵周同吴钱郑周王冯初李\"\n",
    "print(surname.count(\"周\"))\n",
    "print(surname.count(\"冯\", 3))\n",
    "name = \"www.microsoft.com, www.huawei.com, www.jd.com\" \n",
    "print(name.count(\"com\", 5))\n",
    "print(name.count(\"www\"))"
   ]
  },
  {
   "cell_type": "markdown",
   "metadata": {},
   "source": [
    "题目2：编写程序，判断输入"
   ]
  },
  {
   "cell_type": "code",
   "execution_count": 2,
   "metadata": {},
   "outputs": [
    {
     "name": "stdout",
     "output_type": "stream",
     "text": [
      "['C', 'S', 'S', '3']\n",
      "please input the code\n",
      "cSs3\n",
      "input wrong...\n"
     ]
    }
   ],
   "source": [
    "import random\n",
    "\n",
    "code = 'ABCDEFGHIJKLMNOPQRSTUVWXYZabcdefghijklmnopqrstuvwxyz1234567890'\n",
    "\n",
    "code_list = []\n",
    "for i in range(4):\n",
    "    code_list.append(random.choice(code))\n",
    "print(code_list)\n",
    "print(\"please input the code\")\n",
    "input_code = input()\n",
    "print(input_code)\n",
    "count = 0\n",
    "\n",
    "for i in range(4):\n",
    "    if input_code[i] == code_list[i]:\n",
    "        count += 1\n",
    "if count == 4:\n",
    "    print(\"input right...\")\n",
    "else:\n",
    "    print(\"input wrong...\")\n",
    "        "
   ]
  },
  {
   "cell_type": "markdown",
   "metadata": {},
   "source": [
    "题目3：统计“云长”出现的次数和位置"
   ]
  },
  {
   "cell_type": "code",
   "execution_count": 17,
   "metadata": {},
   "outputs": [
    {
     "name": "stdout",
     "output_type": "stream",
     "text": [
      "14 115 152 "
     ]
    },
    {
     "data": {
      "text/plain": [
       "3"
      ]
     },
     "execution_count": 17,
     "metadata": {},
     "output_type": "execute_result"
    }
   ],
   "source": [
    "word = \"当下两军相对，玄德出马，左有云长，右有翼德，扬鞭大骂：“反国逆贼，何不早降！” \\\n",
    "        程远志大怒，遣副将邓茂出站，张飞挺丈八蛇矛直出，手起处，刺中邓茂心窝，翻身落马。\\\n",
    "        程远志见折了邓茂，拍马舞刀，直取张飞，云长舞动大刀，纵马飞迎，程远志见了，早吃一惊，\\\n",
    "        措手不及，被云长刀起处，挥为两段。\"\n",
    "name = \"云长\"\n",
    "\n",
    "    \n",
    "count = 0\n",
    "while True:\n",
    "    \n",
    "    count = word.find(name,count + 1)\n",
    "    if count == -1:\n",
    "        break\n",
    "    print(word.find(name,count),end=' ')\n",
    "    \n",
    "word.count(name)\n"
   ]
  },
  {
   "cell_type": "markdown",
   "metadata": {},
   "source": [
    "题目4：银行卡分段显示"
   ]
  },
  {
   "cell_type": "code",
   "execution_count": null,
   "metadata": {},
   "outputs": [],
   "source": []
  },
  {
   "cell_type": "markdown",
   "metadata": {},
   "source": []
  }
 ],
 "metadata": {
  "interpreter": {
   "hash": "e7370f93d1d0cde622a1f8e1c04877d8463912d04d973331ad4851f04de6915a"
  },
  "kernelspec": {
   "display_name": "Python 3.10.3 64-bit",
   "language": "python",
   "name": "python3"
  },
  "language_info": {
   "codemirror_mode": {
    "name": "ipython",
    "version": 3
   },
   "file_extension": ".py",
   "mimetype": "text/x-python",
   "name": "python",
   "nbconvert_exporter": "python",
   "pygments_lexer": "ipython3",
   "version": "3.10.3"
  },
  "orig_nbformat": 4
 },
 "nbformat": 4,
 "nbformat_minor": 2
}
