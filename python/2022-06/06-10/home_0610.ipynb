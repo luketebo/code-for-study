{
 "cells": [
  {
   "cell_type": "markdown",
   "metadata": {},
   "source": [
    "1. 简述BeautifulSoup类中标签的基本元素\n",
    "   ~~~\n",
    "   <Tag>: 标签，最基本的信息组织单元，分别用<></>标明开始和结束\n",
    "   <Name>: 标签的名字，<p>....</p>的名字是'p',格式：<tag>.name\n",
    "   <Attributes>: 标签的属性，字典形式组织，格式：<tag>.attrs\n",
    "   <NavigableString>: 标签内非属性字符串，<>....</>中字符串，格式：<tag>.string\n",
    "   <Comment>: 标签内字符串的注释部分，一种特殊的Comment类型\n",
    "   ~~~\n",
    "2. 简述BeautifulSoup类中contents, children和descendants的作用\n",
    "    ~~~\n",
    "    .contents: 子节点**列表**，将<tag>所有儿子节点存入列表\n",
    "    .children: 子节点迭代类型，与.contents类似，**用于循环遍历儿子节点**\n",
    "    .descendants: 子孙节点的迭代类型，**包含所有子孙节点**，用于循环遍历\n",
    "    ~~~\n",
    "4. 谈谈什么是平行遍历\n",
    "5. 针对页面http://python123.io/ws/demo.html, 写程序完成如下功能\n",
    "   1. 输出第一个a标签的名字，属性和标签包含的非属性字符串\n",
    "   2. 利用contents输出body标签的所有子标签的名字\n",
    "   3. 利用children输出body标签的所有子标签的名字\n",
    "   4. 输出该页面的所有标签的名字\n",
    "   5. 输出所有a标签的href属性对应的值\n",
    "   6. 输出第一个a标签的所有下行标签"
   ]
  },
  {
   "cell_type": "code",
   "execution_count": null,
   "metadata": {},
   "outputs": [],
   "source": []
  },
  {
   "cell_type": "markdown",
   "metadata": {},
   "source": [
    "5. 根据给出的“实例1中国大学定向爬虫”，自己时间完成该程序。要求：增加一项功能，即将取得排名信息不仅print到屏幕上，还需要保存到本地中"
   ]
  },
  {
   "cell_type": "code",
   "execution_count": null,
   "metadata": {},
   "outputs": [],
   "source": [
    "\n",
    "import requests\n",
    "from bs4 import BeautifulSoup\n",
    "\n",
    "def getHTMLText(url, timeout=30):\n",
    "    try:\n",
    "        # r = requests.get(url, timeout=timeout, headers=\"Mozilla/5.0 (Windows NT 10.0; Win64; x64) AppleWebKit/537.36 (KHTML, like Gecko) Chrome/102.0.5005.63 Safari/537.36 Edg/102.0.1245.33\")\n",
    "        r = requests.get(url)\n",
    "        print(r.status_code)\n",
    "        r.raise_for_status()   # 抛出异常\n",
    "        r.encoding = r.apparent_encoding        \n",
    "        return r.text\n",
    "    except:\n",
    "        return \"\"\n",
    "\n",
    "import bs4\n",
    "def fillUnivList(uList, html):\n",
    "   soup = BeautifulSoup(html, \"html.parser\")\n",
    "   for tr in soup.find('tbody').children:\n",
    "       if isinstance(tr, bs4.element.Tag):\n",
    "           tds = tr('td')\n",
    "           uniname = tr.a.string\n",
    "           str1 = str(tds[0].string)\n",
    "           str3 = str(tds[4].string)\n",
    "           uList.append([str1.strip(), uniname, str3.strip()])\n",
    "\n",
    "def printUnivList(uList, num):\n",
    "    tplt = \"{0:^10}\\t{1:{3}^10}\\t{2:^10}\"\n",
    "    print(tplt.format(\"排名\", \"学校名称\", \"总分\", chr(12288)))\n",
    "    for i in range(num):\n",
    "        u = uList[i]\n",
    "        print(tplt.format(u[0], u[1], u[2], chr(12288)))\n",
    "        with open(\"univ.txt\", \"a\", encoding=\"utf-8\") as f:\n",
    "            txt = tplt.format(u[0], u[1], u[2], chr(12288))\n",
    "            f.write(f\"{txt}\\n\")\n",
    "    \n",
    "    \n",
    "\n",
    "def main():\n",
    "    uInfo = []\n",
    "    url = \"https://www.shanghairanking.cn/rankings/bcur/202211\"\n",
    "    html = getHTMLText(url)\n",
    "    fillUnivList(uInfo, html)\n",
    "    printUnivList(uInfo, 20)\n",
    "    \n",
    "    \n",
    "main()\n",
    "    "
   ]
  }
 ],
 "metadata": {
  "language_info": {
   "name": "python"
  },
  "orig_nbformat": 4
 },
 "nbformat": 4,
 "nbformat_minor": 2
}
