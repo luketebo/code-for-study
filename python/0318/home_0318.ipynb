{
 "cells": [
  {
   "cell_type": "markdown",
   "metadata": {},
   "source": [
    "题目1：看过金庸的小说《射雕英雄传》的人，可能会记得，黄蓉与瑛姑见面时，曾出过这样一道数学题：“今有物不知其数，三三数之剩二，五五数之剩三，七七数之剩二，问几何？”\n",
    "写一个程序判断用户输入的数据是黄蓉说的数"
   ]
  },
  {
   "cell_type": "code",
   "execution_count": null,
   "metadata": {},
   "outputs": [],
   "source": [
    "count = True\n",
    "i = 0\n",
    "while count:\n",
    "    i += 1\n",
    "    if i%3 == 2 and i%5 == 3 and i%7 == 2:\n",
    "        print(i)\n",
    "        count = False"
   ]
  },
  {
   "cell_type": "markdown",
   "metadata": {},
   "source": [
    "题目2：某市中心10公里以内区域（约定为市中心为中心点10公里范围的矩形区域）的房价为每平方米3万元，市中心以外每平方米1.5万元，写程序能够根据用户输入的位置和面积计算总房价"
   ]
  },
  {
   "cell_type": "code",
   "execution_count": 6,
   "metadata": {},
   "outputs": [
    {
     "name": "stdout",
     "output_type": "stream",
     "text": [
      "1. 市内 2. 市外\n",
      "15\n"
     ]
    }
   ],
   "source": [
    "import math\n",
    "print(\"1. 市内 2. 市外\")\n",
    "l = int(input(\"输入位置：\"))\n",
    "area = int(input(\"输入面积：\"))\n",
    "\n",
    "if l == 1:\n",
    "    area *= 3\n",
    "else:\n",
    "    area *= 1.5\n",
    "print(area)"
   ]
  },
  {
   "cell_type": "markdown",
   "metadata": {},
   "source": [
    "题目3：发放奖金"
   ]
  },
  {
   "cell_type": "code",
   "execution_count": 7,
   "metadata": {},
   "outputs": [
    {
     "name": "stdout",
     "output_type": "stream",
     "text": [
      "奖金：3.95\n"
     ]
    }
   ],
   "source": [
    "a = float(input(\"奖金: \"))\n",
    "reward = 0\n",
    "if a >= 100:\n",
    "    reward = (a - 100) * 0.01 + 10 * 0.1 + 10 * 0.075 + 20 * 0.05 + 20 * 0.03 + 40 * 0.015\n",
    "elif 60 <= a < 100:\n",
    "    reward = (a - 60) * 0.015 + 10 * 0.1 + 10 * 0.75 + 20 * 0.03\n",
    "elif 40 <= a < 60:\n",
    "    reward = 10 * 1 + 10 * 0.75 + (a - 40) * 0.03\n",
    "elif 20 <= a < 40:\n",
    "    reward = 10 * 0.1 + 10 * 0.75 + (a - 20) * 0.05\n",
    "elif 10 <= a < 20:\n",
    "    reward = 10 * 0.1 + (a - 10) * 0.75\n",
    "else:\n",
    "    reward = a * 0.1\n",
    "print(\"奖金：\" + str(reward))"
   ]
  },
  {
   "cell_type": "markdown",
   "metadata": {},
   "source": [
    "题目4：计算BMI 值"
   ]
  },
  {
   "cell_type": "code",
   "execution_count": 5,
   "metadata": {},
   "outputs": [
    {
     "name": "stdout",
     "output_type": "stream",
     "text": [
      "normal\n"
     ]
    }
   ],
   "source": [
    "weight = float(input(\"weight:\"))\n",
    "height = float(input(\"height:\"))\n",
    "\n",
    "bmi = weight / (height * height)\n",
    "\n",
    "if bmi < 18.5:\n",
    "    print(\"瘦\")\n",
    "elif 18.5 <= bmi <= 24:\n",
    "    print(\"normal\")\n",
    "elif 24 < bmi <= 28:\n",
    "    print(\"胖\")\n",
    "elif bmi >= 28:\n",
    "    print(\"肥\")"
   ]
  },
  {
   "cell_type": "markdown",
   "metadata": {},
   "source": [
    "题目5：请写一个程序，该程序输入一个年份，根据该年份是否是建国整十周年，建党十周以及是否是闰年给出不同的输出"
   ]
  },
  {
   "cell_type": "code",
   "execution_count": 4,
   "metadata": {},
   "outputs": [
    {
     "name": "stdout",
     "output_type": "stream",
     "text": [
      "建国十年\n"
     ]
    }
   ],
   "source": [
    "year = int(input(\"年份\"))\n",
    "\n",
    "## 1959 1931 year%4==0 and year%100!=0 or year%400==0:\n",
    "\n",
    "\n",
    "if year <= 0:\n",
    "    print(\"what are you doing?\")\n",
    "else:\n",
    "    if year == 1959:\n",
    "        print(\"建国十年\")\n",
    "    elif year == 1931:\n",
    "        print(\"建党十年\")\n",
    "    elif year % 4 == 0 and year % 100 != 0 or year % 400 == 0:\n",
    "        print(\"闰年\")"
   ]
  },
  {
   "cell_type": "markdown",
   "metadata": {},
   "source": [
    "题目6：判断酒驾"
   ]
  },
  {
   "cell_type": "code",
   "execution_count": 8,
   "metadata": {},
   "outputs": [
    {
     "name": "stdout",
     "output_type": "stream",
     "text": [
      "酒驾\n"
     ]
    }
   ],
   "source": [
    "alcohol = int(input(\"请输入酒精含量:\"))\n",
    "if alcohol >= 80:\n",
    "    print(\"酒驾\")\n",
    "elif 20 <= alcohol < 80:\n",
    "    print(\"饮酒驾车\")\n",
    "elif alcohol < 20:\n",
    "    print(\"正常\")\n",
    "    "
   ]
  },
  {
   "cell_type": "markdown",
   "metadata": {},
   "source": [
    "题目7：寄 快递"
   ]
  },
  {
   "cell_type": "code",
   "execution_count": null,
   "metadata": {},
   "outputs": [],
   "source": [
    "print(\"1.华东 2.华南3.华北\")\n",
    "local = int(input(\"地点\"))\n",
    "weight = float(input(\"重量\"))\n",
    "\n",
    "if weight <= 2:\n",
    "    if local == 1:\n",
    "        print(\"13元\")\n",
    "    elif local == 2:\n",
    "        print(\"12元\")\n",
    "    else:\n",
    "        print(\"14元\")\n",
    "else:\n",
    "    if local == 1:\n",
    "        print(f\"{(weight-2)*3+13}元\")\n",
    "    elif local == 2:\n",
    "        print(f\"{(weight-2)*2+12}元\")\n",
    "    else:\n",
    "        print(f\"{(weight-2)*4+14}元\")\n",
    "        \n"
   ]
  },
  {
   "cell_type": "markdown",
   "metadata": {},
   "source": [
    "题目8：黄蓉的数 v2.0"
   ]
  },
  {
   "cell_type": "code",
   "execution_count": 8,
   "metadata": {},
   "outputs": [],
   "source": [
    "count = 0\n",
    "i = 0\n",
    "while count:\n",
    "    i += 1\n",
    "    if i%3 == 2 and i%5 == 3 and i%7 == 2:\n",
    "        print(i)\n",
    "        count = False\n",
    "    if i >= 100:\n",
    "        count = False"
   ]
  },
  {
   "cell_type": "markdown",
   "metadata": {},
   "source": [
    "题目9：天天向上v1.0 ,一个人如果每天进步1%，如果初始能力值为1，分别计算一周后，一月后，一年后能进步多少？如果每天退步1%，也分别计算一周后，一月后，计算一年后退步多少？"
   ]
  },
  {
   "cell_type": "code",
   "execution_count": 13,
   "metadata": {},
   "outputs": [
    {
     "name": "stdout",
     "output_type": "stream",
     "text": [
      "天天向上v1.0\n",
      "\n",
      "每7天 进步1.0721353521070098 退步 0.9320653479069899\n",
      "每30天 进步1.3478489153329063 退步 0.7397003733882802\n",
      "每365天 进步37.783434332887275 退步 0.025517964452291122\n"
     ]
    }
   ],
   "source": [
    "print(\"天天向上v1.0\\n\")\n",
    "a = b = 1\n",
    "c = 0\n",
    "while True:\n",
    "    c += 1\n",
    "    a *= 1.01\n",
    "    b *= 0.99\n",
    "    if c == 7 or c == 30 or c == 365:\n",
    "        print(f\"每{c}天 进步{a} 退步 {b}\")\n",
    "    if c > 365:\n",
    "        break"
   ]
  },
  {
   "cell_type": "markdown",
   "metadata": {},
   "source": [
    "题目10：尽管每天坚持，但人的能力发展并不是无限，它符合特定模型，假设能力增长符合如下带有平台期的模型，以7天为周期，连续学习3天能力值不变，从第4天开始至第七天每天能力增长为前一天的1%,如果7天中有1天简短学习，则周期从头计算，请编写程序回答，如果初始能力值为1，连续学习365天后能力值是多少？"
   ]
  },
  {
   "cell_type": "code",
   "execution_count": 3,
   "metadata": {},
   "outputs": [
    {
     "name": "stdout",
     "output_type": "stream",
     "text": [
      "4.722090542530763\n"
     ]
    }
   ],
   "source": [
    "power = 1\n",
    "for i in range(1,366):\n",
    "    if i % 5 == 0 or i % 6 == 0 or i % 7 == 0:\n",
    "        power *= 1.01\n",
    "\n",
    "print(power) "
   ]
  },
  {
   "cell_type": "markdown",
   "metadata": {},
   "source": [
    "题目11：十以内的四则运算随机出题程序v1.0版(0-10)，要求随机给出多道十以内的四则运算题目，用户输入答案后，立即判断并给出正误，自拟结束做题的方式，在用户结束做题后，给出统计结果，大致内容为：总共完成了多少道题，其中正确了多少道，错误多少道，最后总分（百分制）"
   ]
  },
  {
   "cell_type": "code",
   "execution_count": 4,
   "metadata": {},
   "outputs": [
    {
     "name": "stdout",
     "output_type": "stream",
     "text": [
      "3 + 1 = 4.0\n",
      "8 + 3 = 1.0\n",
      "1 / 8 = 1.0\n",
      "3 + 3 = 6.0\n",
      "6 * 7 = 42.0\n",
      "------------result---------\n",
      "\n",
      "count:5,right:3,error:2,sum:60\n"
     ]
    }
   ],
   "source": [
    "import random\n",
    "\n",
    "def judge(a,b,s) -> int:\n",
    "    if s == '+':\n",
    "        return a + b\n",
    "    elif s == '-':\n",
    "        return a - b\n",
    "    elif s == '*':\n",
    "        return a * b\n",
    "    elif s == '/':\n",
    "        return a / b\n",
    "\n",
    "i = 0\n",
    "right = 0\n",
    "error = 0\n",
    "sum = 0\n",
    "c = 0\n",
    "str = \"+-*/\"\n",
    "count = int(input(\"Please enter the number of questions you want to complete:\"))\n",
    "aver = int(100 / count)\n",
    "while i < count:\n",
    "    a = random.randint(1,9)\n",
    "    b = random.randint(1,9)\n",
    "    op = random.choice(str)\n",
    "    answer = float(input(f\"{a} {op} {b} = \"))\n",
    "    print(f\"{a} {op} {b} = {answer}\")\n",
    "    if answer == judge(a,b,op):\n",
    "        right += 1\n",
    "        sum += aver \n",
    "    elif answer != judge(a,b,op):\n",
    "        error += 1\n",
    "     \n",
    "    i += 1\n",
    "    \n",
    "print(\"------------result---------\\n\")\n",
    "print(f\"count:{count},right:{right},error:{error},sum:{sum}\")   "
   ]
  }
 ],
 "metadata": {
  "interpreter": {
   "hash": "04c4536036e3f09beda75c74a8b8071b0497dc799546b6e35c61d754cf705ead"
  },
  "kernelspec": {
   "display_name": "Python 3.10.0a3 64-bit",
   "language": "python",
   "name": "python3"
  },
  "language_info": {
   "codemirror_mode": {
    "name": "ipython",
    "version": 3
   },
   "file_extension": ".py",
   "mimetype": "text/x-python",
   "name": "python",
   "nbconvert_exporter": "python",
   "pygments_lexer": "ipython3",
   "version": "3.10.3"
  },
  "orig_nbformat": 4
 },
 "nbformat": 4,
 "nbformat_minor": 2
}
